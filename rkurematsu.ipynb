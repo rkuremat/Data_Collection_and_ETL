{
 "cells": [
  {
   "cell_type": "code",
   "execution_count": 81,
   "id": "6911c302-c69b-48b9-998c-0b18efde3ebb",
   "metadata": {},
   "outputs": [],
   "source": [
    "import numpy as np\n",
    "import pandas as pd\n",
    "import requests\n",
    "import json"
   ]
  },
  {
   "cell_type": "code",
   "execution_count": 102,
   "id": "f608b231-5273-4df5-840d-629fcbf383b5",
   "metadata": {},
   "outputs": [],
   "source": [
    "###Data fetching from ACS data site using census API\n",
    "\n",
    "key = '42c599b870399ad2f8cfb7b0ef29ffde645ad83f'\n",
    "url = f'https://api.census.gov/data/2019/acs/acs5?get=NAME,B01001_001E,B01001_002E,B01001_026E,B01002_001E,B02001_002E,B02001_003E,B02001_004E,B02001_005E&for=block%20group:*&in=state:42&in=county:*&in=tract:*&key={key}'\n",
    "\n",
    "#B01001_001E: Total_Pop\n",
    "#B01001_002E: Total_Pop_M\n",
    "#B01001_026E: Total_Pop_F\n",
    "#B01002_001E: Median_Age\n",
    "#B02001_002E: Race(White)\n",
    "#B02001_003E: Race(African)\n",
    "#B02001_004E: Race(NativeAmerican)\n",
    "#B02001_005E: Race(Asian)\n",
    "\n",
    "\n",
    "response = requests.get(url)\n",
    "response.status_code\n",
    "\n",
    "census = response.text\n",
    "census = json.loads(census)\n",
    "df = pd.DataFrame.from_dict(census)\n",
    "\n",
    "df.columns = df.iloc[0]\n",
    "df = df.drop(0)\n",
    "df = df.drop('NAME', axis=1)"
   ]
  },
  {
   "cell_type": "code",
   "execution_count": 83,
   "id": "5df75b1f-dd95-4f63-bf5d-983a9b7973cd",
   "metadata": {},
   "outputs": [],
   "source": [
    "import psycopg2"
   ]
  },
  {
   "cell_type": "code",
   "execution_count": 96,
   "id": "7be2e5c9-1dbf-4beb-a2c1-44f7731a383d",
   "metadata": {},
   "outputs": [],
   "source": [
    "###Create a table called 'rkuremat_acs_data'\n",
    "conn = psycopg2.connect(\"host=acs-db.mlpolicylab.dssg.io dbname=acs_data_loading user=mlpp_student password=CARE-horse-most\")\n",
    "\n",
    "cur = conn.cursor()\n",
    "\n",
    "cur.execute('''CREATE TABLE rkuremat_acs_data(\n",
    "    Total_Pop text,\n",
    "    Total_Pop_M text,\n",
    "    Total_Pop_F text,\n",
    "    Median_Age text,\n",
    "    Race_White text,\n",
    "    Race_African text,\n",
    "    Race_NativeAmerican text,\n",
    "    Race_Asian text,\n",
    "    state text,\n",
    "    county text,\n",
    "    track text,\n",
    "    block_group text,\n",
    "    PRIMARY KEY(state, county, track, block_group)\n",
    ")\n",
    "''')\n",
    "\n",
    "conn.commit()"
   ]
  },
  {
   "cell_type": "code",
   "execution_count": 92,
   "id": "bbf2de01-0c40-4805-aa24-232f3fae08c1",
   "metadata": {},
   "outputs": [],
   "source": [
    "### For dropping the table\n",
    "\n",
    "#conn = psycopg2.connect(\"host=acs-db.mlpolicylab.dssg.io dbname=acs_data_loading user=mlpp_student password=CARE-horse-most\")\n",
    "#cur = conn.cursor()\n",
    "#cur.execute('DROP TABLE rkuremat_acs_data')\n",
    "#conn.commit()"
   ]
  },
  {
   "cell_type": "code",
   "execution_count": 103,
   "id": "ea419209-8b62-41a6-af0c-78fecc3361d7",
   "metadata": {},
   "outputs": [],
   "source": [
    "### Inserting data into 'rkuremat_acs_data' table\n",
    "df.to_csv('df.csv',index=False)\n",
    "\n",
    "conn = psycopg2.connect(\"host=acs-db.mlpolicylab.dssg.io dbname=acs_data_loading user=mlpp_student password=CARE-horse-most\")\n",
    "\n",
    "cur = conn.cursor()\n",
    "\n",
    "with open('df.csv', 'r') as f:\n",
    "    next(f)\n",
    "    cur.copy_from(f, 'rkuremat_acs_data', sep=',')\n",
    "\n",
    "conn.commit()"
   ]
  }
 ],
 "metadata": {
  "kernelspec": {
   "display_name": "Python 3",
   "language": "python",
   "name": "python3"
  },
  "language_info": {
   "codemirror_mode": {
    "name": "ipython",
    "version": 3
   },
   "file_extension": ".py",
   "mimetype": "text/x-python",
   "name": "python",
   "nbconvert_exporter": "python",
   "pygments_lexer": "ipython3",
   "version": "3.8.10"
  }
 },
 "nbformat": 4,
 "nbformat_minor": 5
}
